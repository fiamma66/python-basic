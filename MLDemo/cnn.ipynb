{
 "cells": [
  {
   "cell_type": "code",
   "execution_count": 1,
   "metadata": {},
   "outputs": [
    {
     "name": "stderr",
     "output_type": "stream",
     "text": [
      "Using TensorFlow backend.\n"
     ]
    }
   ],
   "source": [
    "from keras.datasets.cifar10 import load_data\n",
    "(x_train,y_train) , (x_test,y_test) = load_data()\n"
   ]
  },
  {
   "cell_type": "code",
   "execution_count": 2,
   "metadata": {},
   "outputs": [
    {
     "name": "stdout",
     "output_type": "stream",
     "text": [
      "(50000, 32, 32, 3)\n",
      "(10000, 32, 32, 3)\n"
     ]
    }
   ],
   "source": [
    "print(x_train.shape)\n",
    "print(x_test.shape)"
   ]
  },
  {
   "cell_type": "code",
   "execution_count": 8,
   "metadata": {},
   "outputs": [],
   "source": [
    "labels = [\"飛機\",  \"汽車\", \"鳥\", \"貓\", \"鹿\",\n",
    "          \"狗\", \"青蛙\", \"馬\", \"船\", \"卡車\"]"
   ]
  },
  {
   "cell_type": "code",
   "execution_count": 11,
   "metadata": {},
   "outputs": [
    {
     "name": "stdout",
     "output_type": "stream",
     "text": [
      "馬\n"
     ]
    },
    {
     "data": {
      "text/plain": [
       "<matplotlib.image.AxesImage at 0x1bb4efadc50>"
      ]
     },
     "execution_count": 11,
     "metadata": {},
     "output_type": "execute_result"
    },
    {
     "data": {
      "image/png": "[encoded data removed]",
      "text/plain": [
       "<Figure size 432x288 with 1 Axes>"
      ]
     },
     "metadata": {
      "needs_background": "light"
     },
     "output_type": "display_data"
    }
   ],
   "source": [
    "import random\n",
    "import matplotlib.pyplot as plt\n",
    "%matplotlib inline\n",
    "\n",
    "c = random.randint(0,49999)\n",
    "print(labels[y_train[c][0]])\n",
    "plt.imshow(x_train[c])\n"
   ]
  },
  {
   "cell_type": "code",
   "execution_count": 12,
   "metadata": {},
   "outputs": [
    {
     "data": {
      "text/plain": [
       "array([0., 0., 0., 0., 0., 0., 0., 1., 0., 0.], dtype=float32)"
      ]
     },
     "execution_count": 12,
     "metadata": {},
     "output_type": "execute_result"
    }
   ],
   "source": [
    "# 處理資料\n",
    "# 常態化 normalize 配合 一開始隨機的 weight\n",
    "# 記得要攤開 -> 28 * 28\n",
    "# 還沒進 MPL 先卷積 不用展開\n",
    "x_train_shape = x_train / 255\n",
    "x_test_shape = x_test / 255\n",
    "\n",
    "# y 必須要 one-hot encoding 3 -> [0,0,0,0,0,1,0,0,0,0\n",
    "from keras.utils.np_utils import to_categorical\n",
    "y_train_cat = to_categorical(y_train)\n",
    "y_test_cat = to_categorical(y_test)\n",
    "y_train_cat[c]"
   ]
  },
  {
   "cell_type": "code",
   "execution_count": 20,
   "metadata": {},
   "outputs": [
    {
     "name": "stdout",
     "output_type": "stream",
     "text": [
      "_________________________________________________________________\n",
      "Layer (type)                 Output Shape              Param #   \n",
      "=================================================================\n",
      "conv2d_11 (Conv2D)           (None, 32, 32, 32)        896       \n",
      "_________________________________________________________________\n",
      "max_pooling2d_8 (MaxPooling2 (None, 16, 16, 32)        0         \n",
      "_________________________________________________________________\n",
      "conv2d_12 (Conv2D)           (None, 16, 16, 64)        18496     \n",
      "_________________________________________________________________\n",
      "max_pooling2d_9 (MaxPooling2 (None, 8, 8, 64)          0         \n",
      "_________________________________________________________________\n",
      "conv2d_13 (Conv2D)           (None, 8, 8, 128)         73856     \n",
      "_________________________________________________________________\n",
      "max_pooling2d_10 (MaxPooling (None, 4, 4, 128)         0         \n",
      "_________________________________________________________________\n",
      "flatten_2 (Flatten)          (None, 2048)              0         \n",
      "_________________________________________________________________\n",
      "dense_1 (Dense)              (None, 256)               524544    \n",
      "_________________________________________________________________\n",
      "dense_2 (Dense)              (None, 10)                2570      \n",
      "=================================================================\n",
      "Total params: 620,362\n",
      "Trainable params: 620,362\n",
      "Non-trainable params: 0\n",
      "_________________________________________________________________\n"
     ]
    }
   ],
   "source": [
    "from keras.models import Sequential\n",
    "# 2D 維度\n",
    "from keras.layers import Conv2D, MaxPooling2D, Dense\n",
    "from keras.layers import Flatten\n",
    "cnn = Sequential()\n",
    "# param = 3*3(格子)  *  3(RGB)  *  32(filter)\n",
    "# 最後加入 bias 32個 = 896\n",
    "cnn.add(Conv2D(32, # filters 數量\n",
    "               (3,3), # kenerl size\n",
    "               activation=\"relu\",\n",
    "               padding=\"same\",\n",
    "               input_shape=(32, 32, 3)))\n",
    "cnn.add(MaxPooling2D(pool_size=(2,2)))\n",
    "\n",
    "# param = 9(格子) * 32(上一層特徵) * 64(filter)  \n",
    "# 加入 64(bias) = 18496\n",
    "cnn.add(Conv2D(64, # filters 數量\n",
    "               (3,3), # kenerl size\n",
    "               activation=\"relu\",\n",
    "               padding=\"same\",\n",
    "               ))\n",
    "\n",
    "cnn.add(MaxPooling2D(pool_size=(2,2)))\n",
    "\n",
    "cnn.add(Conv2D(128, # filters 數量\n",
    "               (3,3), # kenerl size\n",
    "               activation=\"relu\",\n",
    "               padding=\"same\",\n",
    "               ))\n",
    "cnn.add(MaxPooling2D(pool_size=(2,2)))\n",
    "\n",
    "# reshape 使用 Flatten\n",
    "cnn.add(Flatten())\n",
    "\n",
    "# MLP (大腦)\n",
    "cnn.add(Dense(256, activation=\"relu\"))\n",
    "# 最後一層\n",
    "cnn.add(Dense(10, activation=\"softmax\"))\n",
    "\n",
    "\n",
    "\n",
    "cnn.summary()\n",
    "\n"
   ]
  },
  {
   "cell_type": "code",
   "execution_count": 21,
   "metadata": {},
   "outputs": [],
   "source": [
    "cnn.compile(loss=\"categorical_crossentropy\",\n",
    "           optimizer=\"adam\",\n",
    "           metrics=[\"accuracy\"])"
   ]
  },
  {
   "cell_type": "code",
   "execution_count": 22,
   "metadata": {},
   "outputs": [
    {
     "name": "stdout",
     "output_type": "stream",
     "text": [
      "Train on 45000 samples, validate on 5000 samples\n",
      "Epoch 1/10\n",
      "45000/45000 [==============================] - 70s 2ms/step - loss: 1.6074 - acc: 0.4148 - val_loss: 1.3342 - val_acc: 0.5182\n",
      "Epoch 2/10\n",
      "45000/45000 [==============================] - 63s 1ms/step - loss: 1.1904 - acc: 0.5790 - val_loss: 1.0699 - val_acc: 0.6232\n",
      "Epoch 3/10\n",
      "45000/45000 [==============================] - 63s 1ms/step - loss: 1.0018 - acc: 0.6514 - val_loss: 0.9328 - val_acc: 0.6796\n",
      "Epoch 4/10\n",
      "45000/45000 [==============================] - 65s 1ms/step - loss: 0.8762 - acc: 0.6969 - val_loss: 0.8605 - val_acc: 0.7020\n",
      "Epoch 5/10\n",
      "45000/45000 [==============================] - 65s 1ms/step - loss: 0.7958 - acc: 0.7219 - val_loss: 0.8295 - val_acc: 0.7158\n",
      "Epoch 6/10\n",
      "45000/45000 [==============================] - 68s 2ms/step - loss: 0.7235 - acc: 0.7498 - val_loss: 0.7922 - val_acc: 0.7336\n",
      "Epoch 7/10\n",
      "45000/45000 [==============================] - 67s 1ms/step - loss: 0.6594 - acc: 0.7727 - val_loss: 0.7473 - val_acc: 0.7486\n",
      "Epoch 8/10\n",
      "45000/45000 [==============================] - 67s 1ms/step - loss: 0.6028 - acc: 0.7916 - val_loss: 0.7398 - val_acc: 0.7476\n",
      "Epoch 9/10\n",
      "45000/45000 [==============================] - 65s 1ms/step - loss: 0.5504 - acc: 0.8089 - val_loss: 0.7536 - val_acc: 0.7514\n",
      "Epoch 10/10\n",
      "45000/45000 [==============================] - 64s 1ms/step - loss: 0.4941 - acc: 0.8298 - val_loss: 0.7455 - val_acc: 0.7474\n"
     ]
    },
    {
     "data": {
      "text/plain": [
       "<keras.callbacks.History at 0x1bbb4028b70>"
      ]
     },
     "execution_count": 22,
     "metadata": {},
     "output_type": "execute_result"
    }
   ],
   "source": [
    "cnn.fit(x_train_shape, y_train_cat, \n",
    "        batch_size=200, epochs=10,\n",
    "       validation_split=0.1)"
   ]
  },
  {
   "cell_type": "code",
   "execution_count": 23,
   "metadata": {},
   "outputs": [
    {
     "name": "stdout",
     "output_type": "stream",
     "text": [
      "10000/10000 [==============================] - 6s 648us/step\n"
     ]
    },
    {
     "data": {
      "text/plain": [
       "[0.7891401069641113, 0.7355]"
      ]
     },
     "execution_count": 23,
     "metadata": {},
     "output_type": "execute_result"
    }
   ],
   "source": [
    "cnn.evaluate(x_test_shape, y_test_cat)\n"
   ]
  },
  {
   "cell_type": "code",
   "execution_count": 24,
   "metadata": {},
   "outputs": [],
   "source": [
    "# 儲存 model\n",
    "cnn.save(\"simplecnn.h5\")"
   ]
  },
  {
   "cell_type": "code",
   "execution_count": 25,
   "metadata": {},
   "outputs": [
    {
     "name": "stdout",
     "output_type": "stream",
     "text": [
      "10000/10000 [==============================] - 5s 538us/step\n"
     ]
    },
    {
     "data": {
      "text/plain": [
       "[0.7891401069641113, 0.7355]"
      ]
     },
     "execution_count": 25,
     "metadata": {},
     "output_type": "execute_result"
    }
   ],
   "source": [
    "# 讀取 model\n",
    "from keras.models import load_model\n",
    "old = load_model(\"simplecnn.h5\")\n",
    "\n",
    "old.evaluate(x_test_shape, y_test_cat)\n",
    "\n"
   ]
  },
  {
   "cell_type": "code",
   "execution_count": 26,
   "metadata": {},
   "outputs": [
    {
     "data": {
      "text/html": [
       "<div>\n",
       "<style scoped>\n",
       "    .dataframe tbody tr th:only-of-type {\n",
       "        vertical-align: middle;\n",
       "    }\n",
       "\n",
       "    .dataframe tbody tr th {\n",
       "        vertical-align: top;\n",
       "    }\n",
       "\n",
       "    .dataframe thead th {\n",
       "        text-align: right;\n",
       "    }\n",
       "</style>\n",
       "<table border=\"1\" class=\"dataframe\">\n",
       "  <thead>\n",
       "    <tr style=\"text-align: right;\">\n",
       "      <th></th>\n",
       "      <th>0</th>\n",
       "      <th>1</th>\n",
       "      <th>2</th>\n",
       "      <th>3</th>\n",
       "      <th>4</th>\n",
       "      <th>5</th>\n",
       "      <th>6</th>\n",
       "      <th>7</th>\n",
       "      <th>8</th>\n",
       "      <th>9</th>\n",
       "    </tr>\n",
       "  </thead>\n",
       "  <tbody>\n",
       "    <tr>\n",
       "      <th>0</th>\n",
       "      <td>799</td>\n",
       "      <td>20</td>\n",
       "      <td>27</td>\n",
       "      <td>26</td>\n",
       "      <td>5</td>\n",
       "      <td>9</td>\n",
       "      <td>13</td>\n",
       "      <td>11</td>\n",
       "      <td>50</td>\n",
       "      <td>40</td>\n",
       "    </tr>\n",
       "    <tr>\n",
       "      <th>1</th>\n",
       "      <td>12</td>\n",
       "      <td>882</td>\n",
       "      <td>3</td>\n",
       "      <td>13</td>\n",
       "      <td>0</td>\n",
       "      <td>3</td>\n",
       "      <td>15</td>\n",
       "      <td>2</td>\n",
       "      <td>14</td>\n",
       "      <td>56</td>\n",
       "    </tr>\n",
       "    <tr>\n",
       "      <th>2</th>\n",
       "      <td>85</td>\n",
       "      <td>5</td>\n",
       "      <td>614</td>\n",
       "      <td>89</td>\n",
       "      <td>40</td>\n",
       "      <td>49</td>\n",
       "      <td>70</td>\n",
       "      <td>30</td>\n",
       "      <td>8</td>\n",
       "      <td>10</td>\n",
       "    </tr>\n",
       "    <tr>\n",
       "      <th>3</th>\n",
       "      <td>24</td>\n",
       "      <td>8</td>\n",
       "      <td>58</td>\n",
       "      <td>673</td>\n",
       "      <td>17</td>\n",
       "      <td>108</td>\n",
       "      <td>65</td>\n",
       "      <td>22</td>\n",
       "      <td>13</td>\n",
       "      <td>12</td>\n",
       "    </tr>\n",
       "    <tr>\n",
       "      <th>4</th>\n",
       "      <td>25</td>\n",
       "      <td>3</td>\n",
       "      <td>99</td>\n",
       "      <td>108</td>\n",
       "      <td>530</td>\n",
       "      <td>54</td>\n",
       "      <td>82</td>\n",
       "      <td>86</td>\n",
       "      <td>11</td>\n",
       "      <td>2</td>\n",
       "    </tr>\n",
       "    <tr>\n",
       "      <th>5</th>\n",
       "      <td>16</td>\n",
       "      <td>3</td>\n",
       "      <td>31</td>\n",
       "      <td>241</td>\n",
       "      <td>16</td>\n",
       "      <td>618</td>\n",
       "      <td>23</td>\n",
       "      <td>39</td>\n",
       "      <td>6</td>\n",
       "      <td>7</td>\n",
       "    </tr>\n",
       "    <tr>\n",
       "      <th>6</th>\n",
       "      <td>6</td>\n",
       "      <td>2</td>\n",
       "      <td>44</td>\n",
       "      <td>89</td>\n",
       "      <td>8</td>\n",
       "      <td>15</td>\n",
       "      <td>828</td>\n",
       "      <td>2</td>\n",
       "      <td>3</td>\n",
       "      <td>3</td>\n",
       "    </tr>\n",
       "    <tr>\n",
       "      <th>7</th>\n",
       "      <td>12</td>\n",
       "      <td>5</td>\n",
       "      <td>45</td>\n",
       "      <td>62</td>\n",
       "      <td>24</td>\n",
       "      <td>51</td>\n",
       "      <td>10</td>\n",
       "      <td>784</td>\n",
       "      <td>1</td>\n",
       "      <td>6</td>\n",
       "    </tr>\n",
       "    <tr>\n",
       "      <th>8</th>\n",
       "      <td>56</td>\n",
       "      <td>36</td>\n",
       "      <td>15</td>\n",
       "      <td>21</td>\n",
       "      <td>0</td>\n",
       "      <td>6</td>\n",
       "      <td>6</td>\n",
       "      <td>6</td>\n",
       "      <td>830</td>\n",
       "      <td>24</td>\n",
       "    </tr>\n",
       "    <tr>\n",
       "      <th>9</th>\n",
       "      <td>20</td>\n",
       "      <td>108</td>\n",
       "      <td>13</td>\n",
       "      <td>17</td>\n",
       "      <td>1</td>\n",
       "      <td>8</td>\n",
       "      <td>8</td>\n",
       "      <td>8</td>\n",
       "      <td>20</td>\n",
       "      <td>797</td>\n",
       "    </tr>\n",
       "  </tbody>\n",
       "</table>\n",
       "</div>"
      ],
      "text/plain": [
       "     0    1    2    3    4    5    6    7    8    9\n",
       "0  799   20   27   26    5    9   13   11   50   40\n",
       "1   12  882    3   13    0    3   15    2   14   56\n",
       "2   85    5  614   89   40   49   70   30    8   10\n",
       "3   24    8   58  673   17  108   65   22   13   12\n",
       "4   25    3   99  108  530   54   82   86   11    2\n",
       "5   16    3   31  241   16  618   23   39    6    7\n",
       "6    6    2   44   89    8   15  828    2    3    3\n",
       "7   12    5   45   62   24   51   10  784    1    6\n",
       "8   56   36   15   21    0    6    6    6  830   24\n",
       "9   20  108   13   17    1    8    8    8   20  797"
      ]
     },
     "execution_count": 26,
     "metadata": {},
     "output_type": "execute_result"
    }
   ],
   "source": [
    "from sklearn.metrics import confusion_matrix\n",
    "import pandas as pd\n",
    "\n",
    "\n",
    "pd.DataFrame(confusion_matrix(y_test, \n",
    "                 cnn.predict_classes(x_test_shape)))\n",
    "\n",
    "\n",
    "\n"
   ]
  },
  {
   "cell_type": "code",
   "execution_count": null,
   "metadata": {},
   "outputs": [],
   "source": []
  }
 ],
 "metadata": {
  "kernelspec": {
   "display_name": "Python 3",
   "language": "python",
   "name": "python3"
  },
  "language_info": {
   "codemirror_mode": {
    "name": "ipython",
    "version": 3
   },
   "file_extension": ".py",
   "mimetype": "text/x-python",
   "name": "python",
   "nbconvert_exporter": "python",
   "pygments_lexer": "ipython3",
   "version": "3.6.0"
  }
 },
 "nbformat": 4,
 "nbformat_minor": 1
}
