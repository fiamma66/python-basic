{
 "cells": [
  {
   "cell_type": "code",
   "execution_count": 1,
   "metadata": {},
   "outputs": [],
   "source": [
    "import requests\n",
    "from bs4 import BeautifulSoup\n",
    "import time\n",
    "import random , logstash , logging , pymongo\n",
    "\n"
   ]
  },
  {
   "cell_type": "code",
   "execution_count": null,
   "metadata": {},
   "outputs": [],
   "source": [
    "\n",
    "\n",
    "host = '192.168.114.130'\n",
    "client = \"mongodb://\" + host + \":27017/\"\n",
    "# 多執行續下 可能被 dead lock \n",
    "myclient = pymongo.MongoClient(client, connect=False)\n",
    "mydb = myclient[\"mydatabase\"]\n",
    "mycol = mydb[\"Mobile01\"]\n"
   ]
  },
  {
   "cell_type": "code",
   "execution_count": null,
   "metadata": {},
   "outputs": [],
   "source": [
    "# pipeline \n",
    "logger = logging.getLogger('python-logstash-logger')\n",
    "logger.setLevel(logging.INFO)\n",
    "host_demo = \"logstash\"\n",
    "logger.addHandler(logstash.TCPLogstashHandler(host_demo,5959))\n",
    "\n",
    "\n"
   ]
  },
  {
   "cell_type": "code",
   "execution_count": 2,
   "metadata": {},
   "outputs": [],
   "source": [
    "proxylist = [{\"http\": \"37.187.120.123:80\"},\n",
    "             {\"https\": \"206.189.36.198:8080\"},\n",
    "             {\"https\": \"178.128.31.153:8080\"},\n",
    "             {\"http\": \"167.114.180.102:8080\"},\n",
    "             {\"http\": \"104.131.214.218:80\"},\n",
    "             {\"http\": \"167.114.196.153:80\"}]\n",
    "header = {'user-agent': 'Mozilla/5.0 (Windows NT 10.0; Win64; x64) AppleWebKit/537.36 (KHTML, like Gecko) Chrome/71.0.3578.98 Safari/537.36'}\n",
    "\n",
    "\n",
    "\n",
    "def get_connect(url):\n",
    "    i = 0\n",
    "    \n",
    "    while True :\n",
    "        \n",
    "        try :\n",
    "            resp = requests.get(url,headers=header,proxies=proxylist[i])          \n",
    "            resp.encoding = \"utf-8\"\n",
    "            time.sleep(random.randint(1,4))\n",
    "           \n",
    "            \n",
    "        except requests.exceptions.ConnectionError :             \n",
    "            #logger.warning(\"Proxy Error\",extra={\"proxy\":proxylist[i]})\n",
    "            \n",
    "            i = (i + 1) % 6\n",
    "            continue\n",
    "\n",
    "            \n",
    "            \n",
    "        if resp : \n",
    "            if resp.status_code == 200 :\n",
    "                code = \"HTTP response code = \" + str(resp.status_code)\n",
    "                #logger.info(code,extra={\"url\" : url, \"time_use\" : resp.elapsed.total_seconds()})\n",
    "                #print(proxylist[i])\n",
    "                break         \n",
    "        \n",
    "        \n",
    "    return resp.text \n",
    "    "
   ]
  },
  {
   "cell_type": "code",
   "execution_count": 3,
   "metadata": {},
   "outputs": [],
   "source": [
    "url = \"https://www.mobile01.com/waypointlist.php?list=1&c=0&s=desc&pid=2&p=1\"\n",
    "\n",
    "soup = BeautifulSoup(get_connect(url))"
   ]
  },
  {
   "cell_type": "code",
   "execution_count": 4,
   "metadata": {},
   "outputs": [
    {
     "data": {
      "text/plain": [
       "<tr>\n",
       "<td class=\"icon\" width=\"200\"><a href=\"waypointdetail.php?id=32535\"><img border=\"0\" height=\"150\" src=\"//attach.mobile01.com/waypoint/mobile01-dba7b25a2157b4155d29721a91370806.jpg\" width=\"200\"/></a></td>\n",
       "<td class=\"detail\"><p class=\"title\"><a class=\"rb16\" href=\"waypointdetail.php?id=32535\">臺北市 北投區 溫泉博物館 — 鬱鬱蔥蔥中的紅磚建築，英式建築中的日式溫泉鄉</a></p>\n",
       "<p class=\"desc\">北投溫泉博物館，在日治時期為「北投公共浴場」，完工於1913年6月，距今已有105年。 建築本體為雙層和洋折衷風格建築，外觀仿英式建築，而內部則部分為和式空間，最初的用途就是溫泉浴室。 日本人愛泡溫泉舉世聞名，在發現北投的優質磺泉後，即儘...</p>\n",
       "<p class=\"info\">景點分類: <a href=\"waypointlist.php?pid=2\">台北市</a> - 風景 - 博物館或紀念館<br/>\n",
       "                    發佈日期: 2019-01-11 <a class=\"bk12u\" href=\"userinfo.php?id=537205\">老狗5550</a><br/>\n",
       "                    無線網路: 有<br/>\n",
       "</p></td>\n",
       "</tr>"
      ]
     },
     "execution_count": 4,
     "metadata": {},
     "output_type": "execute_result"
    }
   ],
   "source": [
    "table = soup.find_all(\"tr\")\n",
    "table[0]"
   ]
  },
  {
   "cell_type": "code",
   "execution_count": 38,
   "metadata": {},
   "outputs": [],
   "source": [
    "# 取得列表內容\n",
    "for t in table:\n",
    "    title = t.find(\"p\", class_=\"title\").text\n",
    "    href = \"https://www.mobile01.com/\" + t.find(\"p\", class_=\"title\").find(\"a\")[\"href\"]\n",
    "    sp = t.find(\"p\", class_=\"info\").text.split(\"-\")[1]\n",
    "    date = t.find(\"p\", class_=\"info\").text.split(\":\")[2].split(\" \")[1]\n",
    "    \n",
    "        \n",
    "    "
   ]
  },
  {
   "cell_type": "code",
   "execution_count": 61,
   "metadata": {},
   "outputs": [],
   "source": [
    "href = \"https://www.mobile01.com/waypointdetail.php?id=32523\"\n",
    "soup = BeautifulSoup(get_connect(href))"
   ]
  },
  {
   "cell_type": "code",
   "execution_count": 62,
   "metadata": {},
   "outputs": [],
   "source": [
    "# 文章本文\n",
    "content = soup.find(\"div\", class_=\"single-post-content\").text.replace(\"\\r\",\"\").replace(\"\\n\",\"\").replace(\" \",\"\")\n",
    "img_url = []\n",
    "imgs = soup.find(\"div\", class_=\"single-post-content\").find_all(\"img\")\n",
    "for img in imgs:\n",
    "        img_url.append(img[\"data-src\"])\n",
    "author = soup.find(\"div\", class_=\"panel note sidebar-authur\").find(\"a\").text\n",
    "article_hit = soup.find_all(\"div\",class_=\"panel note \")[1].find_all(\"li\")[0].text.split(\":\")[-1]\n",
    "rate = soup.find_all(\"div\",class_=\"panel note \")[1].find_all(\"li\")[1].text.split(\":\")[-1]"
   ]
  },
  {
   "cell_type": "code",
   "execution_count": 81,
   "metadata": {},
   "outputs": [
    {
     "data": {
      "text/plain": [
       "5"
      ]
     },
     "execution_count": 81,
     "metadata": {},
     "output_type": "execute_result"
    }
   ],
   "source": [
    "# 餐廳資訊\n",
    "len(soup.find(id=\"info_form\").find_all(\"div\")[8].find_all(\"img\"))\n",
    "\n"
   ]
  },
  {
   "cell_type": "code",
   "execution_count": 84,
   "metadata": {},
   "outputs": [
    {
     "data": {
      "text/plain": [
       "'地址:士林官邸公園'"
      ]
     },
     "execution_count": 84,
     "metadata": {},
     "output_type": "execute_result"
    }
   ],
   "source": [
    "soup.find(id=\"info_form\").find_all(\"div\")[1].text.replace(\"\\n\",\"\")"
   ]
  },
  {
   "cell_type": "code",
   "execution_count": null,
   "metadata": {},
   "outputs": [],
   "source": []
  },
  {
   "cell_type": "code",
   "execution_count": null,
   "metadata": {},
   "outputs": [],
   "source": []
  },
  {
   "cell_type": "code",
   "execution_count": null,
   "metadata": {},
   "outputs": [],
   "source": []
  },
  {
   "cell_type": "code",
   "execution_count": null,
   "metadata": {},
   "outputs": [],
   "source": []
  },
  {
   "cell_type": "code",
   "execution_count": null,
   "metadata": {},
   "outputs": [],
   "source": []
  }
 ],
 "metadata": {
  "kernelspec": {
   "display_name": "Python 3",
   "language": "python",
   "name": "python3"
  },
  "language_info": {
   "codemirror_mode": {
    "name": "ipython",
    "version": 3
   },
   "file_extension": ".py",
   "mimetype": "text/x-python",
   "name": "python",
   "nbconvert_exporter": "python",
   "pygments_lexer": "ipython3",
   "version": "3.6.7"
  }
 },
 "nbformat": 4,
 "nbformat_minor": 2
}
