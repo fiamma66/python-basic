{
 "cells": [
  {
   "cell_type": "code",
   "execution_count": 33,
   "metadata": {},
   "outputs": [],
   "source": [
    "# prepare packages\n",
    "import requests, pandas as pd\n",
    "from datetime import datetime, timedelta, timezone\n",
    "from bs4 import BeautifulSoup\n",
    "import logging\n",
    "# from pythonjsonlogger import jsonlogger\n",
    "import logmatic\n",
    "import os\n",
    "import time, random"
   ]
  },
  {
   "cell_type": "code",
   "execution_count": 24,
   "metadata": {},
   "outputs": [],
   "source": [
    "\n",
    "# 設定現在時間 以時間來作為log檔名 一個log 以日計算\n",
    "# 並在當下目錄創建 log folder\n",
    "def get_time():\n",
    "    now = datetime.utcnow()\n",
    "    path = \"./log\"\n",
    "\n",
    "    utc_8 = timezone(timedelta(hours=8))\n",
    "    now = now.replace(tzinfo=timezone.utc)\n",
    "\n",
    "    time_now = now.astimezone(utc_8)\n",
    "\n",
    "    split = str(time_now).split(\" \")\n",
    "    file_date = split[0]\n",
    "    split = split[1].split(\":\")\n",
    "    file_time = split[0]+split[1]\n",
    "    if not os.path.exists(path) :\n",
    "        os.makedirs(path)\n",
    "        \n",
    "    return path + \"/\" + file_date \n",
    "\n",
    "\n"
   ]
  },
  {
   "cell_type": "code",
   "execution_count": 25,
   "metadata": {},
   "outputs": [],
   "source": [
    "# memory\n",
    "url = \"https://www.ptt.cc/bbs/Food/index2.html\"\n",
    "\n",
    "# set proxy to use\n",
    "proxylist = [{\"http\": \"37.187.120.123:80\"},\n",
    "             {\"https\": \"206.189.36.198:8080\"},\n",
    "             {\"https\": \"178.128.31.153:8080\"},\n",
    "             {\"http\": \"167.114.180.102:8080\"},\n",
    "             {\"http\": \"104.131.214.218:80\"},\n",
    "             {\"http\": \"167.114.196.153:80\"}]\n",
    "header = {'user-agent': 'Mozilla/5.0 (Windows NT 10.0; Win64; x64) AppleWebKit/537.36 (KHTML, like Gecko) Chrome/71.0.3578.98 Safari/537.36'}\n"
   ]
  },
  {
   "cell_type": "code",
   "execution_count": 26,
   "metadata": {},
   "outputs": [],
   "source": [
    "# example use of logmatic \n",
    "# more simple \n",
    "\n",
    "logger = logging.getLogger()\n",
    " \n",
    "handler = logging.FileHandler(get_time())\n",
    "handler.setFormatter(logmatic.JsonFormatter())\n",
    " \n",
    "logger.addHandler(handler)\n",
    "logger.setLevel(logging.INFO)"
   ]
  },
  {
   "cell_type": "code",
   "execution_count": 27,
   "metadata": {},
   "outputs": [],
   "source": [
    "# 連線流程\n",
    "def get_connect(url):\n",
    "    i = 0\n",
    "    try :\n",
    "        resp = requests.get(url,headers=header,proxies=proxylist[i])\n",
    "        resp.encoding = \"utf-8\"\n",
    "        # 設定連線狀況 log\n",
    "        code = \"HTTP response code = \" + str(resp.status_code)\n",
    "        logger.info(code)\n",
    "        while resp.status_code != 200 :\n",
    "            resp.close()\n",
    "            i = (i + 1) % 6\n",
    "            resp = requests.get(url,headers=header,proxies=proxylist[i])\n",
    "            resp.encoding = \"utf-8\"\n",
    "\n",
    "\n",
    "\n",
    "    except Exception as e:\n",
    "        logger.error(e)\n",
    "    return resp.text\n",
    "    \n",
    "    "
   ]
  },
  {
   "cell_type": "code",
   "execution_count": 28,
   "metadata": {},
   "outputs": [
    {
     "name": "stdout",
     "output_type": "stream",
     "text": [
      "進入ptt :  https://www.ptt.cc/bbs/Food/index2.html\n",
      "現在處理:  http://www.ptt.cc/bbs/Food/M.1075984738.A.940.html\n",
      "現在處理:  http://www.ptt.cc/bbs/Food/M.1076050484.A.E4D.html\n",
      "現在處理:  http://www.ptt.cc/bbs/Food/M.1076076457.A.E23.html\n",
      "現在處理:  http://www.ptt.cc/bbs/Food/M.1076140207.A.43C.html\n",
      "現在處理:  http://www.ptt.cc/bbs/Food/M.1076164201.A.3B2.html\n",
      "現在處理:  http://www.ptt.cc/bbs/Food/M.1076171700.A.C9E.html\n",
      "現在處理:  http://www.ptt.cc/bbs/Food/M.1076174761.A.4F7.html\n",
      "現在處理:  http://www.ptt.cc/bbs/Food/M.1076223828.A.358.html\n",
      "現在處理:  http://www.ptt.cc/bbs/Food/M.1076238985.A.B51.html\n",
      "現在處理:  http://www.ptt.cc/bbs/Food/M.1076244287.A.580.html\n",
      "現在處理:  http://www.ptt.cc/bbs/Food/M.1076261639.A.681.html\n",
      "現在處理:  http://www.ptt.cc/bbs/Food/M.1076297742.A.630.html\n",
      "現在處理:  http://www.ptt.cc/bbs/Food/M.1076391807.A.B79.html\n",
      "現在處理:  http://www.ptt.cc/bbs/Food/M.1076393080.A.4CA.html\n",
      "現在處理:  http://www.ptt.cc/bbs/Food/M.1076404948.A.EAA.html\n",
      "現在處理:  http://www.ptt.cc/bbs/Food/M.1076425294.A.ECB.html\n",
      "現在處理:  http://www.ptt.cc/bbs/Food/M.1076427119.A.998.html\n",
      "現在處理:  http://www.ptt.cc/bbs/Food/M.1076513908.A.93D.html\n",
      "現在處理:  http://www.ptt.cc/bbs/Food/M.1076515616.A.349.html\n",
      "現在處理:  http://www.ptt.cc/bbs/Food/M.1076516438.A.BDD.html\n"
     ]
    }
   ],
   "source": [
    "# 進入ptt列表 抓取 標題、推文數、網址 \n",
    "result = []\n",
    "soup = BeautifulSoup(get_connect(url))\n",
    "print(\"進入ptt : \",url)\n",
    "post = soup.find_all(\"div\", class_=\"r-ent\")\n",
    "for r in post:\n",
    "            # 取得推的數量\n",
    "    push = 0\n",
    "    if r.find(\"div\", class_=\"nrec\").text:\n",
    "        try:\n",
    "            push = int(r.find(\"div\", class_=\"nrec\").text)\n",
    "        except ValueError:\n",
    "                pass\n",
    "    if r.find(\"a\"):\n",
    "        # 取得網址\n",
    "        href = \"http://www.ptt.cc\" + r.find(\"a\")[\"href\"]\n",
    "        # 取得標題\n",
    "        title = r.find(\"a\").text\n",
    "        \n",
    "        # 進入第二層 進入每一篇\n",
    "        # 去除公告 請益 為分類的文章\n",
    "        if not \"公告\" in title :\n",
    "            if not \"請益\" in title:\n",
    "                print(\"現在處理: \", href)\n",
    "                art = BeautifulSoup(get_connect(href))\n",
    "                article = []\n",
    "                content = art.find(\"div\", id=\"main-content\")\n",
    "                # 保存要丟棄的資訊\n",
    "                val = content.find_all(\"span\", {\"class\":\"article-meta-value\"})\n",
    "                author = val[0].text\n",
    "                title_in_content = val[2].text\n",
    "                date_in_content = val[3].text\n",
    "                \n",
    "                # 開始丟棄資訊\n",
    "                removes = content.find_all(\"div\", class_=\"article-metaline\")\n",
    "                for remove in removes:\n",
    "                    remove.extract()\n",
    "                removes = content.find_all(\"div\", class_=\"article-metaline-right\")\n",
    "                for remove in removes:\n",
    "                    remove.extract()\n",
    "                removes = content.find_all(\"span\", class_=\"f2\")\n",
    "                for remove in removes:\n",
    "                    remove.extract()\n",
    "                removes = content.find_all(\"div\", class_=\"push\")\n",
    "                for remove in removes:\n",
    "                    remove.extract()\n",
    "                article.append({\n",
    "                    \"author\" : author,\n",
    "                    \"title_in_content\" : title_in_content,\n",
    "                    \"date_in_content\" : date_in_content,\n",
    "                    \"content\" : content.text\n",
    "                })\n",
    "                \n",
    "    result.append({\n",
    "        \"title\" : title,\n",
    "        \"push\" : push,\n",
    "        \"href\" : href,\n",
    "        \"content\" : article\n",
    "        \n",
    "    })\n",
    "    \n",
    "    time.sleep(random.randint(1,6))\n",
    "                \n",
    "\n",
    "\n",
    "\n",
    "\n"
   ]
  },
  {
   "cell_type": "code",
   "execution_count": 34,
   "metadata": {},
   "outputs": [
    {
     "ename": "NameError",
     "evalue": "name 'resp' is not defined",
     "output_type": "error",
     "traceback": [
      "\u001b[0;31m---------------------------------------------------------------------------\u001b[0m",
      "\u001b[0;31mNameError\u001b[0m                                 Traceback (most recent call last)",
      "\u001b[0;32m<ipython-input-34-99faf0599216>\u001b[0m in \u001b[0;36m<module>\u001b[0;34m\u001b[0m\n\u001b[0;32m----> 1\u001b[0;31m \u001b[0mresp\u001b[0m\u001b[0;34m\u001b[0m\u001b[0;34m\u001b[0m\u001b[0m\n\u001b[0m",
      "\u001b[0;31mNameError\u001b[0m: name 'resp' is not defined"
     ]
    }
   ],
   "source": []
  },
  {
   "cell_type": "code",
   "execution_count": 76,
   "metadata": {},
   "outputs": [],
   "source": [
    "import json\n",
    "# 轉成 Dataframe\n",
    "df = pd.DataFrame(result)\n",
    "\n"
   ]
  },
  {
   "cell_type": "code",
   "execution_count": 88,
   "metadata": {},
   "outputs": [],
   "source": [
    "# 排列欄位順序\n",
    "\n",
    "df = df[ [\"title\", \"push\", \"href\", \"content\" ] ]"
   ]
  },
  {
   "cell_type": "code",
   "execution_count": 91,
   "metadata": {},
   "outputs": [
    {
     "data": {
      "text/plain": [
       "title                                                杜樂麗法國茶館\n",
       "push                                                       0\n",
       "href       http://www.ptt.cc/bbs/Food/M.1076050484.A.E4D....\n",
       "content    [{'author': 'mimique41 (here for u)', 'title_i...\n",
       "Name: 1, dtype: object"
      ]
     },
     "execution_count": 91,
     "metadata": {},
     "output_type": "execute_result"
    }
   ],
   "source": [
    "df.iloc[1]"
   ]
  },
  {
   "cell_type": "code",
   "execution_count": null,
   "metadata": {},
   "outputs": [],
   "source": []
  },
  {
   "cell_type": "code",
   "execution_count": null,
   "metadata": {},
   "outputs": [],
   "source": [
    "# example use of json_logging\n",
    "# more detail\n",
    "import logging\n",
    "import sys\n",
    "\n",
    "import json_logging\n",
    "\n",
    "# log is initialized without a web framework name\n",
    "json_logging.ENABLE_JSON_LOGGING = True\n",
    "json_logging.init()\n",
    "\n",
    "logger = logging.getLogger(__name__)\n",
    "logger.setLevel(logging.DEBUG)\n",
    "logger.addHandler(logging.StreamHandler(sys.stdout))\n",
    "\n",
    "#logger.info(\"test log statement\")\n",
    "#logger.info(\"test log statement\", extra={'props': {\"extra_property\": 'extra_value'}})"
   ]
  },
  {
   "cell_type": "code",
   "execution_count": null,
   "metadata": {},
   "outputs": [],
   "source": [
    "# set logging \n",
    "# 設定 log config \n",
    "# less detail\n",
    "\n",
    "handler = logging.FileHandler(get_time())  # Or FileHandler or anything else\n",
    "# Configure the fields to include in the JSON output. message is the main log string itself\n",
    "format_str = '%(message)%(levelname)%(name)%(asctime)'\n",
    "formatter = jsonlogger.JsonFormatter(format_str)\n",
    "handler.setFormatter(formatter)\n",
    "logger = logging.getLogger(__name__)\n",
    "logger.addHandler(handler)\n",
    "logger.setLevel(logging.INFO)\n",
    "# Normally we would attach the handler to the root logger, and this would be unnecessary\n",
    "logger.propagate = False\n"
   ]
  }
 ],
 "metadata": {
  "kernelspec": {
   "display_name": "Python 3",
   "language": "python",
   "name": "python3"
  },
  "language_info": {
   "codemirror_mode": {
    "name": "ipython",
    "version": 3
   },
   "file_extension": ".py",
   "mimetype": "text/x-python",
   "name": "python",
   "nbconvert_exporter": "python",
   "pygments_lexer": "ipython3",
   "version": "3.7.1"
  }
 },
 "nbformat": 4,
 "nbformat_minor": 2
}
