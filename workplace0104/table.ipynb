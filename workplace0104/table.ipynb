{
 "cells": [
  {
   "cell_type": "markdown",
   "metadata": {
    "collapsed": true
   },
   "source": [
    "# MarkDown Here \n",
    "## This Block is used for our own note\n",
    "### This is like how the markdown does\n",
    "\n",
    "![](google.png)\n",
    "![](http://localhost:8888/kernelspecs/python3/logo-64x64.png)\n",
    "\n",
    "![](http://localhost:8888/static/base/images/logo.png?v=641991992878ee24c6f3826e81054a0f)\n",
    "\n",
    "~~下面是專業工程師使用~~ LATEX\n",
    "\n",
    "\n",
    "$r = \\sqrt\\frac {x_1^2 + x_2^2}{4}$ "
   ]
  },
  {
   "cell_type": "code",
   "execution_count": null,
   "metadata": {},
   "outputs": [],
   "source": [
    "import pandas as pd\n",
    "# import as 用法 之後都用 as 後的名稱\n",
    "# Jupyter NB 中 要手動按 Tab 才有供選擇補字\n",
    "df = pd.read_csv(\"file/ted_main.csv\", encoding=\"utf-8\")\n",
    "# 只有 JNB 才可以使用這種美化印出方式\n",
    "df\n",
    "# 此資料型態為 Data Frame\n",
    "# Data Frame 為一個表格\n",
    "# Series 為單行或單列\n",
    "\n"
   ]
  },
  {
   "cell_type": "code",
   "execution_count": null,
   "metadata": {},
   "outputs": [],
   "source": [
    "# 單行操作 -> 字典\n",
    "# Series\n",
    "df[\"comments\"]"
   ]
  },
  {
   "cell_type": "code",
   "execution_count": null,
   "metadata": {},
   "outputs": [],
   "source": [
    "# 多行操作 使用 [ [\"行1\", \"行2\"] ]\n",
    "# 裡面[] : List , 外面[] : 行操作\n",
    "# 多行多列 -> data frame\n",
    "df[ [\"comments\", \"description\"]]"
   ]
  },
  {
   "cell_type": "code",
   "execution_count": null,
   "metadata": {},
   "outputs": [],
   "source": [
    "df.head(5)\n"
   ]
  },
  {
   "cell_type": "code",
   "execution_count": null,
   "metadata": {},
   "outputs": [],
   "source": [
    "df.tail(5)\n"
   ]
  },
  {
   "cell_type": "code",
   "execution_count": null,
   "metadata": {},
   "outputs": [],
   "source": [
    "# 單列 .iloc -> [\"第一列\", \"第二列\", ....]\n",
    "df.iloc[999]"
   ]
  },
  {
   "cell_type": "code",
   "execution_count": null,
   "metadata": {},
   "outputs": [],
   "source": [
    "df.iloc[1000:1005]\n",
    "# list[n:m]  n 到 m-1"
   ]
  },
  {
   "cell_type": "code",
   "execution_count": null,
   "metadata": {},
   "outputs": [],
   "source": [
    "df.iloc[1000:1005][ [\"comments\", \"description\"] ]"
   ]
  },
  {
   "cell_type": "code",
   "execution_count": null,
   "metadata": {},
   "outputs": [],
   "source": [
    "# 轉換操作\n",
    "# 思考 : 一個轉換的流程\n",
    "from datetime import datetime\n",
    "def trans(timestamp):\n",
    "    return str(datetime.utcfromtimestamp(timestamp))\n",
    "    \n",
    "# 轉換 film_date 轉成 UTC Time\n",
    "# df 專屬技能 .apply 發一個流程給所有成員使用\n",
    "df[\"filmutc\"] = df[\"film_date\"].apply(trans)\n",
    "\n",
    "# .apply 並非更改原資料\n",
    "# 字典加入一列 : 使用 字典[\"名稱\"] = \n",
    "df\n"
   ]
  },
  {
   "cell_type": "code",
   "execution_count": null,
   "metadata": {},
   "outputs": [],
   "source": [
    "\n",
    "str(datetime.utcfromtimestamp(1140825600))\n"
   ]
  },
  {
   "cell_type": "code",
   "execution_count": null,
   "metadata": {},
   "outputs": [],
   "source": [
    "# 篩選操作\n",
    "# 篩選原理 : [ [True, False, True] ]\n",
    "# 對應 True : 留下  ; False : 剔除\n",
    "df.head(3)[ [True, True, True] ]\n"
   ]
  },
  {
   "cell_type": "code",
   "execution_count": null,
   "metadata": {},
   "outputs": [],
   "source": [
    "# 定義流程\n",
    "def fflow(c): # 輸入comments\n",
    "    if c > 3000 and c < 5000:\n",
    "        return True\n",
    "    else :\n",
    "        return False\n",
    "# 將comments列 進入流程轉換\n",
    "f = df[\"comments\"].apply(fflow)\n",
    "df[f]\n",
    "\n"
   ]
  },
  {
   "cell_type": "code",
   "execution_count": null,
   "metadata": {},
   "outputs": [],
   "source": [
    "def fflow1(t):\n",
    "    if \"children\" in eval(t):\n",
    "        return True\n",
    "    else:\n",
    "        return False\n",
    "    \n",
    "\n",
    "\n",
    "f = df[ df[\"tags\"].apply(fflow1) ]\n",
    "print(\"符合條件: \",f.shape[0])\n",
    "# f.shape 為 Tuple (幾列, 幾行)\n",
    "f"
   ]
  },
  {
   "cell_type": "code",
   "execution_count": null,
   "metadata": {},
   "outputs": [],
   "source": [
    "# eval使用\n",
    "a = eval(\"[1, 2, 3]\")\n",
    "# a = [1, 2, 3]\n",
    "# eval 表達其傳回值\n",
    "# eval(a)\n",
    "a\n"
   ]
  },
  {
   "cell_type": "code",
   "execution_count": null,
   "metadata": {},
   "outputs": [],
   "source": [
    "# **: 自動組合為字典\n",
    "def fflow1(t, **kwargs):\n",
    "    if kwargs[\"tag\"] in eval(t):\n",
    "        return True\n",
    "    else:\n",
    "        return False\n",
    "    \n",
    "s = input(\"請輸入你想要的標籤\")\n",
    "\n",
    "f = df[ df[\"tags\"].apply(fflow1, tag=s) ]\n",
    "print(\"符合條件: \",f.shape[0])\n",
    "# f.shape 為 Tuple (幾列, 幾行)\n",
    "f"
   ]
  },
  {
   "cell_type": "code",
   "execution_count": null,
   "metadata": {},
   "outputs": [],
   "source": [
    "def test(**kwargs):\n",
    "    print(kwargs)\n",
    "    \n",
    "test(a=3, b = 6, c= 7)\n",
    "    "
   ]
  },
  {
   "cell_type": "code",
   "execution_count": null,
   "metadata": {},
   "outputs": [],
   "source": [
    "# 反轉 data frame 行列對換\n",
    "\n",
    "df.T.to_csv(\"file/ted_transform.csv\", encoding=\"utf-8\")\n",
    "df.T"
   ]
  },
  {
   "cell_type": "code",
   "execution_count": 22,
   "metadata": {},
   "outputs": [],
   "source": [
    "import logging\n",
    "# 格式化 log \n",
    "logging.basicConfig(format='%(asctime)s - %(levelname)s : %(message)s')\n",
    "\n",
    "# 無法設定\n",
    "\n",
    "\n",
    "\n"
   ]
  },
  {
   "cell_type": "code",
   "execution_count": 23,
   "metadata": {},
   "outputs": [
    {
     "name": "stderr",
     "output_type": "stream",
     "text": [
      "DEBUG:root:test\n"
     ]
    }
   ],
   "source": [
    "\n",
    "# stack flow solution\n",
    "import logging\n",
    "logger = logging.getLogger()\n",
    "logger.setLevel(logging.DEBUG)\n",
    "logger.Format()\n",
    "logging.debug(\"test\")\n",
    "\n"
   ]
  },
  {
   "cell_type": "code",
   "execution_count": 27,
   "metadata": {},
   "outputs": [
    {
     "name": "stderr",
     "output_type": "stream",
     "text": [
      "INFO:root:Hello world!\n"
     ]
    }
   ],
   "source": [
    "# another solution\n",
    "import logging\n",
    "import sys\n",
    "\n",
    "logging.basicConfig(format='%(asctime)s - %(levelname)s : %(message)s',\n",
    "                     level=logging.INFO, stream=sys.stdout)\n",
    "\n",
    "logging.info('Hello world!')"
   ]
  },
  {
   "cell_type": "code",
   "execution_count": null,
   "metadata": {},
   "outputs": [],
   "source": []
  }
 ],
 "metadata": {
  "kernelspec": {
   "display_name": "Python 3",
   "language": "python",
   "name": "python3"
  },
  "language_info": {
   "codemirror_mode": {
    "name": "ipython",
    "version": 3
   },
   "file_extension": ".py",
   "mimetype": "text/x-python",
   "name": "python",
   "nbconvert_exporter": "python",
   "pygments_lexer": "ipython3",
   "version": "3.7.1"
  }
 },
 "nbformat": 4,
 "nbformat_minor": 1
}
